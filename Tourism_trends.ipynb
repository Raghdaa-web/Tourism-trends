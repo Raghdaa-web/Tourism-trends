{
  "cells": [
    {
      "cell_type": "code",
      "execution_count": 43,
      "id": "aZQyOatRNjqP",
      "metadata": {
        "id": "aZQyOatRNjqP"
      },
      "outputs": [],
      "source": [
        "import pandas as pd\n",
        "import numpy as np\n",
        "import scipy.stats as stats"
      ]
    },
    {
      "cell_type": "code",
      "execution_count": 44,
      "id": "_iEfVP6jNjqR",
      "metadata": {
        "id": "_iEfVP6jNjqR",
        "outputId": "ed05bc2d-519e-4aa9-b139-aae8a495632f"
      },
      "outputs": [
        {
          "data": {
            "text/html": [
              "<div>\n",
              "<style scoped>\n",
              "    .dataframe tbody tr th:only-of-type {\n",
              "        vertical-align: middle;\n",
              "    }\n",
              "\n",
              "    .dataframe tbody tr th {\n",
              "        vertical-align: top;\n",
              "    }\n",
              "\n",
              "    .dataframe thead th {\n",
              "        text-align: right;\n",
              "    }\n",
              "</style>\n",
              "<table border=\"1\" class=\"dataframe\">\n",
              "  <thead>\n",
              "    <tr style=\"text-align: right;\">\n",
              "      <th></th>\n",
              "      <th>IP</th>\n",
              "      <th>Submission ID</th>\n",
              "      <th>Submission Date</th>\n",
              "      <th>Location</th>\n",
              "      <th>Age</th>\n",
              "      <th>Gender</th>\n",
              "      <th>Job Type</th>\n",
              "      <th>Income</th>\n",
              "      <th>Marital Status</th>\n",
              "      <th>How do you plan your Trip</th>\n",
              "      <th>How frequently do you travel for leisure or tourism purposes in a year?</th>\n",
              "      <th>What types of destinations do you prefer for your leisure travels?</th>\n",
              "      <th>What is the average duration of your typical leisure trip?</th>\n",
              "      <th>How do you prefer traveling?</th>\n",
              "      <th>What type of accommodation do you usually prefer during your travels?</th>\n",
              "      <th>What are your next travel destination?</th>\n",
              "    </tr>\n",
              "  </thead>\n",
              "  <tbody>\n",
              "    <tr>\n",
              "      <th>0</th>\n",
              "      <td>93.212.98.183</td>\n",
              "      <td>5753628153818365290</td>\n",
              "      <td>2023-11-09 19:13:35</td>\n",
              "      <td>Germany</td>\n",
              "      <td>25-34</td>\n",
              "      <td>Male</td>\n",
              "      <td>Full-time</td>\n",
              "      <td>25,001 - $50,000</td>\n",
              "      <td>Single</td>\n",
              "      <td>By Yourself</td>\n",
              "      <td>Twice a year</td>\n",
              "      <td>Urban Cities</td>\n",
              "      <td>A few days</td>\n",
              "      <td>with Friends</td>\n",
              "      <td>Airbnb</td>\n",
              "      <td>France</td>\n",
              "    </tr>\n",
              "    <tr>\n",
              "      <th>1</th>\n",
              "      <td>95.88.61.10</td>\n",
              "      <td>5752416560116746280</td>\n",
              "      <td>2023-11-08 09:34:16</td>\n",
              "      <td>Germany</td>\n",
              "      <td>18-24</td>\n",
              "      <td>Female</td>\n",
              "      <td>Student</td>\n",
              "      <td>Under $25,000</td>\n",
              "      <td>Single</td>\n",
              "      <td>By Yourself</td>\n",
              "      <td>Several times per year</td>\n",
              "      <td>Beach/Coastal Resorts</td>\n",
              "      <td>1 Week</td>\n",
              "      <td>with Friends</td>\n",
              "      <td>Airbnb</td>\n",
              "      <td>Turkey</td>\n",
              "    </tr>\n",
              "    <tr>\n",
              "      <th>2</th>\n",
              "      <td>91.64.38.180</td>\n",
              "      <td>5752037450819179770</td>\n",
              "      <td>2023-11-07 23:02:26</td>\n",
              "      <td>Spain</td>\n",
              "      <td>35-44</td>\n",
              "      <td>Male</td>\n",
              "      <td>Full-time</td>\n",
              "      <td>25,001 - $50,000</td>\n",
              "      <td>Single</td>\n",
              "      <td>By Yourself</td>\n",
              "      <td>Several times per year</td>\n",
              "      <td>Urban Cities</td>\n",
              "      <td>A few days</td>\n",
              "      <td>with Friends</td>\n",
              "      <td>Airbnb</td>\n",
              "      <td>Turkey</td>\n",
              "    </tr>\n",
              "  </tbody>\n",
              "</table>\n",
              "</div>"
            ],
            "text/plain": [
              "              IP        Submission ID      Submission Date Location    Age  \\\n",
              "0  93.212.98.183  5753628153818365290  2023-11-09 19:13:35  Germany  25-34   \n",
              "1    95.88.61.10  5752416560116746280  2023-11-08 09:34:16  Germany  18-24   \n",
              "2   91.64.38.180  5752037450819179770  2023-11-07 23:02:26    Spain  35-44   \n",
              "\n",
              "   Gender   Job Type            Income Marital Status  \\\n",
              "0    Male  Full-time  25,001 - $50,000         Single   \n",
              "1  Female    Student     Under $25,000         Single   \n",
              "2    Male  Full-time  25,001 - $50,000         Single   \n",
              "\n",
              "  How do you plan your Trip  \\\n",
              "0               By Yourself   \n",
              "1               By Yourself   \n",
              "2               By Yourself   \n",
              "\n",
              "  How frequently do you travel for leisure or tourism purposes in a year?  \\\n",
              "0                                       Twice a year                        \n",
              "1                             Several times per year                        \n",
              "2                             Several times per year                        \n",
              "\n",
              "  What types of destinations do you prefer for your leisure travels?  \\\n",
              "0                                       Urban Cities                   \n",
              "1                              Beach/Coastal Resorts                   \n",
              "2                                       Urban Cities                   \n",
              "\n",
              "  What is the average duration of your typical leisure trip?  \\\n",
              "0                                         A few days           \n",
              "1                                             1 Week           \n",
              "2                                         A few days           \n",
              "\n",
              "  How do you prefer traveling?  \\\n",
              "0                 with Friends   \n",
              "1                 with Friends   \n",
              "2                 with Friends   \n",
              "\n",
              "  What type of accommodation do you usually prefer during your travels?  \\\n",
              "0                                             Airbnb                      \n",
              "1                                             Airbnb                      \n",
              "2                                             Airbnb                      \n",
              "\n",
              "  What are your next travel destination?  \n",
              "0                                 France  \n",
              "1                                 Turkey  \n",
              "2                                 Turkey  "
            ]
          },
          "execution_count": 44,
          "metadata": {},
          "output_type": "execute_result"
        }
      ],
      "source": [
        "tourism_df = pd.read_csv('Travel-Pulse-2024.csv')\n",
        "tourism_df.head(3)"
      ]
    },
    {
      "cell_type": "code",
      "execution_count": 45,
      "id": "vQiMe_CPNjqR",
      "metadata": {
        "id": "vQiMe_CPNjqR",
        "outputId": "9b8613ee-1793-4657-c7a2-8143e47b66e0"
      },
      "outputs": [
        {
          "data": {
            "text/html": [
              "<div>\n",
              "<style scoped>\n",
              "    .dataframe tbody tr th:only-of-type {\n",
              "        vertical-align: middle;\n",
              "    }\n",
              "\n",
              "    .dataframe tbody tr th {\n",
              "        vertical-align: top;\n",
              "    }\n",
              "\n",
              "    .dataframe thead th {\n",
              "        text-align: right;\n",
              "    }\n",
              "</style>\n",
              "<table border=\"1\" class=\"dataframe\">\n",
              "  <thead>\n",
              "    <tr style=\"text-align: right;\">\n",
              "      <th></th>\n",
              "      <th>IP</th>\n",
              "      <th>Submission ID</th>\n",
              "      <th>Submission Date</th>\n",
              "      <th>Location</th>\n",
              "      <th>Age</th>\n",
              "      <th>Gender</th>\n",
              "      <th>Job Type</th>\n",
              "      <th>Income</th>\n",
              "      <th>Marital Status</th>\n",
              "      <th>How do you plan your Trip</th>\n",
              "      <th>How frequently do you travel for leisure or tourism purposes in a year?</th>\n",
              "      <th>What types of destinations do you prefer for your leisure travels?</th>\n",
              "      <th>What is the average duration of your typical leisure trip?</th>\n",
              "      <th>How do you prefer traveling?</th>\n",
              "      <th>What type of accommodation do you usually prefer during your travels?</th>\n",
              "      <th>What are your next travel destination?</th>\n",
              "    </tr>\n",
              "  </thead>\n",
              "  <tbody>\n",
              "    <tr>\n",
              "      <th>0</th>\n",
              "      <td>93.212.98.183</td>\n",
              "      <td>5753628153818365290</td>\n",
              "      <td>2023-11-09 19:13:35</td>\n",
              "      <td>Germany</td>\n",
              "      <td>25-34</td>\n",
              "      <td>Male</td>\n",
              "      <td>Full-time</td>\n",
              "      <td>25,001 - $50,000</td>\n",
              "      <td>Single</td>\n",
              "      <td>By Yourself</td>\n",
              "      <td>Twice a year</td>\n",
              "      <td>Urban Cities</td>\n",
              "      <td>A few days</td>\n",
              "      <td>with Friends</td>\n",
              "      <td>Airbnb</td>\n",
              "      <td>France</td>\n",
              "    </tr>\n",
              "    <tr>\n",
              "      <th>1</th>\n",
              "      <td>95.88.61.10</td>\n",
              "      <td>5752416560116746280</td>\n",
              "      <td>2023-11-08 09:34:16</td>\n",
              "      <td>Germany</td>\n",
              "      <td>18-24</td>\n",
              "      <td>Female</td>\n",
              "      <td>Student</td>\n",
              "      <td>Under $25,000</td>\n",
              "      <td>Single</td>\n",
              "      <td>By Yourself</td>\n",
              "      <td>Several times per year</td>\n",
              "      <td>Beach/Coastal Resorts</td>\n",
              "      <td>1 Week</td>\n",
              "      <td>with Friends</td>\n",
              "      <td>Airbnb</td>\n",
              "      <td>Turkey</td>\n",
              "    </tr>\n",
              "  </tbody>\n",
              "</table>\n",
              "</div>"
            ],
            "text/plain": [
              "              IP        Submission ID      Submission Date Location    Age  \\\n",
              "0  93.212.98.183  5753628153818365290  2023-11-09 19:13:35  Germany  25-34   \n",
              "1    95.88.61.10  5752416560116746280  2023-11-08 09:34:16  Germany  18-24   \n",
              "\n",
              "   Gender   Job Type            Income Marital Status  \\\n",
              "0    Male  Full-time  25,001 - $50,000         Single   \n",
              "1  Female    Student     Under $25,000         Single   \n",
              "\n",
              "  How do you plan your Trip  \\\n",
              "0               By Yourself   \n",
              "1               By Yourself   \n",
              "\n",
              "  How frequently do you travel for leisure or tourism purposes in a year?  \\\n",
              "0                                       Twice a year                        \n",
              "1                             Several times per year                        \n",
              "\n",
              "  What types of destinations do you prefer for your leisure travels?  \\\n",
              "0                                       Urban Cities                   \n",
              "1                              Beach/Coastal Resorts                   \n",
              "\n",
              "  What is the average duration of your typical leisure trip?  \\\n",
              "0                                         A few days           \n",
              "1                                             1 Week           \n",
              "\n",
              "  How do you prefer traveling?  \\\n",
              "0                 with Friends   \n",
              "1                 with Friends   \n",
              "\n",
              "  What type of accommodation do you usually prefer during your travels?  \\\n",
              "0                                             Airbnb                      \n",
              "1                                             Airbnb                      \n",
              "\n",
              "  What are your next travel destination?  \n",
              "0                                 France  \n",
              "1                                 Turkey  "
            ]
          },
          "execution_count": 45,
          "metadata": {},
          "output_type": "execute_result"
        }
      ],
      "source": [
        "tourism_df.head(2)"
      ]
    },
    {
      "cell_type": "code",
      "execution_count": 46,
      "id": "LRu3ncSGNjqS",
      "metadata": {
        "id": "LRu3ncSGNjqS"
      },
      "outputs": [],
      "source": [
        "tourism_df.dropna(inplace=True)"
      ]
    },
    {
      "cell_type": "code",
      "execution_count": 47,
      "id": "a66fP7FhNjqS",
      "metadata": {
        "id": "a66fP7FhNjqS",
        "outputId": "6354fb60-f5a3-45c8-b6b4-f8486ea9cc53"
      },
      "outputs": [
        {
          "data": {
            "text/plain": [
              "Index(['IP', 'Submission ID', 'Submission Date', 'Location', 'Age', 'Gender',\n",
              "       'Job Type', 'Income', 'Marital Status', 'How do you plan your Trip',\n",
              "       'How frequently do you travel for leisure or tourism purposes in a year?',\n",
              "       'What types of destinations do you prefer for your leisure travels?',\n",
              "       'What is the average duration of your typical leisure trip?',\n",
              "       'How do you prefer traveling?',\n",
              "       'What type of accommodation do you usually prefer during your travels?',\n",
              "       'What are your next travel destination?'],\n",
              "      dtype='object')"
            ]
          },
          "execution_count": 47,
          "metadata": {},
          "output_type": "execute_result"
        }
      ],
      "source": [
        "tourism_df.columns"
      ]
    },
    {
      "cell_type": "code",
      "execution_count": 48,
      "id": "NJK2Bt8kNjqS",
      "metadata": {
        "id": "NJK2Bt8kNjqS"
      },
      "outputs": [],
      "source": [
        "tourism_df = tourism_df.drop(['IP', 'Submission ID','Submission Date'],axis = 1)"
      ]
    },
    {
      "cell_type": "code",
      "execution_count": 49,
      "id": "MkPqlwFjNjqT",
      "metadata": {
        "id": "MkPqlwFjNjqT",
        "outputId": "e1fade1b-76a1-4fea-f224-bafb21a13552"
      },
      "outputs": [
        {
          "data": {
            "text/html": [
              "<div>\n",
              "<style scoped>\n",
              "    .dataframe tbody tr th:only-of-type {\n",
              "        vertical-align: middle;\n",
              "    }\n",
              "\n",
              "    .dataframe tbody tr th {\n",
              "        vertical-align: top;\n",
              "    }\n",
              "\n",
              "    .dataframe thead th {\n",
              "        text-align: right;\n",
              "    }\n",
              "</style>\n",
              "<table border=\"1\" class=\"dataframe\">\n",
              "  <thead>\n",
              "    <tr style=\"text-align: right;\">\n",
              "      <th></th>\n",
              "      <th>Location</th>\n",
              "      <th>Age</th>\n",
              "      <th>Gender</th>\n",
              "      <th>Job Type</th>\n",
              "      <th>Income</th>\n",
              "      <th>Marital Status</th>\n",
              "      <th>How do you plan your Trip</th>\n",
              "      <th>How frequently do you travel for leisure or tourism purposes in a year?</th>\n",
              "      <th>What types of destinations do you prefer for your leisure travels?</th>\n",
              "      <th>What is the average duration of your typical leisure trip?</th>\n",
              "      <th>How do you prefer traveling?</th>\n",
              "      <th>What type of accommodation do you usually prefer during your travels?</th>\n",
              "      <th>What are your next travel destination?</th>\n",
              "    </tr>\n",
              "  </thead>\n",
              "  <tbody>\n",
              "    <tr>\n",
              "      <th>0</th>\n",
              "      <td>Germany</td>\n",
              "      <td>25-34</td>\n",
              "      <td>Male</td>\n",
              "      <td>Full-time</td>\n",
              "      <td>25,001 - $50,000</td>\n",
              "      <td>Single</td>\n",
              "      <td>By Yourself</td>\n",
              "      <td>Twice a year</td>\n",
              "      <td>Urban Cities</td>\n",
              "      <td>A few days</td>\n",
              "      <td>with Friends</td>\n",
              "      <td>Airbnb</td>\n",
              "      <td>France</td>\n",
              "    </tr>\n",
              "    <tr>\n",
              "      <th>1</th>\n",
              "      <td>Germany</td>\n",
              "      <td>18-24</td>\n",
              "      <td>Female</td>\n",
              "      <td>Student</td>\n",
              "      <td>Under $25,000</td>\n",
              "      <td>Single</td>\n",
              "      <td>By Yourself</td>\n",
              "      <td>Several times per year</td>\n",
              "      <td>Beach/Coastal Resorts</td>\n",
              "      <td>1 Week</td>\n",
              "      <td>with Friends</td>\n",
              "      <td>Airbnb</td>\n",
              "      <td>Turkey</td>\n",
              "    </tr>\n",
              "  </tbody>\n",
              "</table>\n",
              "</div>"
            ],
            "text/plain": [
              "  Location    Age  Gender   Job Type            Income Marital Status  \\\n",
              "0  Germany  25-34    Male  Full-time  25,001 - $50,000         Single   \n",
              "1  Germany  18-24  Female    Student     Under $25,000         Single   \n",
              "\n",
              "  How do you plan your Trip  \\\n",
              "0               By Yourself   \n",
              "1               By Yourself   \n",
              "\n",
              "  How frequently do you travel for leisure or tourism purposes in a year?  \\\n",
              "0                                       Twice a year                        \n",
              "1                             Several times per year                        \n",
              "\n",
              "  What types of destinations do you prefer for your leisure travels?  \\\n",
              "0                                       Urban Cities                   \n",
              "1                              Beach/Coastal Resorts                   \n",
              "\n",
              "  What is the average duration of your typical leisure trip?  \\\n",
              "0                                         A few days           \n",
              "1                                             1 Week           \n",
              "\n",
              "  How do you prefer traveling?  \\\n",
              "0                 with Friends   \n",
              "1                 with Friends   \n",
              "\n",
              "  What type of accommodation do you usually prefer during your travels?  \\\n",
              "0                                             Airbnb                      \n",
              "1                                             Airbnb                      \n",
              "\n",
              "  What are your next travel destination?  \n",
              "0                                 France  \n",
              "1                                 Turkey  "
            ]
          },
          "execution_count": 49,
          "metadata": {},
          "output_type": "execute_result"
        }
      ],
      "source": [
        "tourism_df.head(2)"
      ]
    },
    {
      "cell_type": "code",
      "execution_count": 50,
      "id": "LzXYgJtGNjqT",
      "metadata": {
        "id": "LzXYgJtGNjqT"
      },
      "outputs": [],
      "source": [
        "new_column_names = ['Location', 'Age', 'Gender', 'Job_Type','Income', 'Marital_Status', 'Trip_Plan', 'Travel_frequency(Yearly)','destinations','average_duration','prefer_traveling','accommodation','next_travel_destination']\n",
        "\n",
        "# Assign new column names to the DataFrame\n",
        "tourism_df.columns = new_column_names"
      ]
    },
    {
      "cell_type": "code",
      "execution_count": 51,
      "id": "L-uw_wV3NjqU",
      "metadata": {
        "id": "L-uw_wV3NjqU",
        "outputId": "0c078630-3e87-4c22-fe24-38d84003a75b"
      },
      "outputs": [
        {
          "data": {
            "text/html": [
              "<div>\n",
              "<style scoped>\n",
              "    .dataframe tbody tr th:only-of-type {\n",
              "        vertical-align: middle;\n",
              "    }\n",
              "\n",
              "    .dataframe tbody tr th {\n",
              "        vertical-align: top;\n",
              "    }\n",
              "\n",
              "    .dataframe thead th {\n",
              "        text-align: right;\n",
              "    }\n",
              "</style>\n",
              "<table border=\"1\" class=\"dataframe\">\n",
              "  <thead>\n",
              "    <tr style=\"text-align: right;\">\n",
              "      <th></th>\n",
              "      <th>Location</th>\n",
              "      <th>Age</th>\n",
              "      <th>Gender</th>\n",
              "      <th>Job_Type</th>\n",
              "      <th>Income</th>\n",
              "      <th>Marital_Status</th>\n",
              "      <th>Trip_Plan</th>\n",
              "      <th>Travel_frequency(Yearly)</th>\n",
              "      <th>destinations</th>\n",
              "      <th>average_duration</th>\n",
              "      <th>prefer_traveling</th>\n",
              "      <th>accommodation</th>\n",
              "      <th>next_travel_destination</th>\n",
              "    </tr>\n",
              "  </thead>\n",
              "  <tbody>\n",
              "    <tr>\n",
              "      <th>0</th>\n",
              "      <td>Germany</td>\n",
              "      <td>25-34</td>\n",
              "      <td>Male</td>\n",
              "      <td>Full-time</td>\n",
              "      <td>25,001 - $50,000</td>\n",
              "      <td>Single</td>\n",
              "      <td>By Yourself</td>\n",
              "      <td>Twice a year</td>\n",
              "      <td>Urban Cities</td>\n",
              "      <td>A few days</td>\n",
              "      <td>with Friends</td>\n",
              "      <td>Airbnb</td>\n",
              "      <td>France</td>\n",
              "    </tr>\n",
              "    <tr>\n",
              "      <th>1</th>\n",
              "      <td>Germany</td>\n",
              "      <td>18-24</td>\n",
              "      <td>Female</td>\n",
              "      <td>Student</td>\n",
              "      <td>Under $25,000</td>\n",
              "      <td>Single</td>\n",
              "      <td>By Yourself</td>\n",
              "      <td>Several times per year</td>\n",
              "      <td>Beach/Coastal Resorts</td>\n",
              "      <td>1 Week</td>\n",
              "      <td>with Friends</td>\n",
              "      <td>Airbnb</td>\n",
              "      <td>Turkey</td>\n",
              "    </tr>\n",
              "  </tbody>\n",
              "</table>\n",
              "</div>"
            ],
            "text/plain": [
              "  Location    Age  Gender   Job_Type            Income Marital_Status  \\\n",
              "0  Germany  25-34    Male  Full-time  25,001 - $50,000         Single   \n",
              "1  Germany  18-24  Female    Student     Under $25,000         Single   \n",
              "\n",
              "     Trip_Plan Travel_frequency(Yearly)           destinations  \\\n",
              "0  By Yourself             Twice a year           Urban Cities   \n",
              "1  By Yourself   Several times per year  Beach/Coastal Resorts   \n",
              "\n",
              "  average_duration prefer_traveling accommodation next_travel_destination  \n",
              "0       A few days     with Friends        Airbnb                  France  \n",
              "1           1 Week     with Friends        Airbnb                  Turkey  "
            ]
          },
          "execution_count": 51,
          "metadata": {},
          "output_type": "execute_result"
        }
      ],
      "source": [
        "tourism_df.head(2)"
      ]
    },
    {
      "cell_type": "code",
      "execution_count": 52,
      "id": "eW87LnCpNjqU",
      "metadata": {
        "id": "eW87LnCpNjqU",
        "outputId": "f65be9ab-9976-4b5a-bf19-f99f9356e9dd"
      },
      "outputs": [
        {
          "data": {
            "text/plain": [
              "(51, 13)"
            ]
          },
          "execution_count": 52,
          "metadata": {},
          "output_type": "execute_result"
        }
      ],
      "source": [
        "tourism_df.shape"
      ]
    },
    {
      "cell_type": "code",
      "execution_count": 53,
      "id": "EzwjO7ZKNjqU",
      "metadata": {
        "id": "EzwjO7ZKNjqU",
        "outputId": "498434d5-228a-460e-c871-ba583cb72f19"
      },
      "outputs": [
        {
          "name": "stdout",
          "output_type": "stream",
          "text": [
            "<class 'pandas.core.frame.DataFrame'>\n",
            "Index: 51 entries, 0 to 64\n",
            "Data columns (total 13 columns):\n",
            " #   Column                    Non-Null Count  Dtype \n",
            "---  ------                    --------------  ----- \n",
            " 0   Location                  51 non-null     object\n",
            " 1   Age                       51 non-null     object\n",
            " 2   Gender                    51 non-null     object\n",
            " 3   Job_Type                  51 non-null     object\n",
            " 4   Income                    51 non-null     object\n",
            " 5   Marital_Status            51 non-null     object\n",
            " 6   Trip_Plan                 51 non-null     object\n",
            " 7   Travel_frequency(Yearly)  51 non-null     object\n",
            " 8   destinations              51 non-null     object\n",
            " 9   average_duration          51 non-null     object\n",
            " 10  prefer_traveling          51 non-null     object\n",
            " 11  accommodation             51 non-null     object\n",
            " 12  next_travel_destination   51 non-null     object\n",
            "dtypes: object(13)\n",
            "memory usage: 5.6+ KB\n"
          ]
        }
      ],
      "source": [
        "tourism_df.info()"
      ]
    },
    {
      "cell_type": "code",
      "execution_count": 54,
      "id": "s7hBmOV7NjqU",
      "metadata": {
        "id": "s7hBmOV7NjqU",
        "outputId": "ee5af870-ac12-4895-d32e-6b3180f4de7e"
      },
      "outputs": [
        {
          "data": {
            "text/plain": [
              "Location                    0\n",
              "Age                         0\n",
              "Gender                      0\n",
              "Job_Type                    0\n",
              "Income                      0\n",
              "Marital_Status              0\n",
              "Trip_Plan                   0\n",
              "Travel_frequency(Yearly)    0\n",
              "destinations                0\n",
              "average_duration            0\n",
              "prefer_traveling            0\n",
              "accommodation               0\n",
              "next_travel_destination     0\n",
              "dtype: int64"
            ]
          },
          "execution_count": 54,
          "metadata": {},
          "output_type": "execute_result"
        }
      ],
      "source": [
        "tourism_df.isnull().sum()"
      ]
    },
    {
      "cell_type": "code",
      "execution_count": 55,
      "id": "zY0lDbDxNjqU",
      "metadata": {
        "id": "zY0lDbDxNjqU",
        "outputId": "89ff84c6-ca6b-4744-bacf-4d1c379c5c36"
      },
      "outputs": [
        {
          "data": {
            "text/html": [
              "<div>\n",
              "<style scoped>\n",
              "    .dataframe tbody tr th:only-of-type {\n",
              "        vertical-align: middle;\n",
              "    }\n",
              "\n",
              "    .dataframe tbody tr th {\n",
              "        vertical-align: top;\n",
              "    }\n",
              "\n",
              "    .dataframe thead th {\n",
              "        text-align: right;\n",
              "    }\n",
              "</style>\n",
              "<table border=\"1\" class=\"dataframe\">\n",
              "  <thead>\n",
              "    <tr style=\"text-align: right;\">\n",
              "      <th></th>\n",
              "      <th>Location</th>\n",
              "      <th>Age</th>\n",
              "      <th>Gender</th>\n",
              "      <th>Job_Type</th>\n",
              "      <th>Income</th>\n",
              "      <th>Marital_Status</th>\n",
              "      <th>Trip_Plan</th>\n",
              "      <th>Travel_frequency(Yearly)</th>\n",
              "      <th>destinations</th>\n",
              "      <th>average_duration</th>\n",
              "      <th>prefer_traveling</th>\n",
              "      <th>accommodation</th>\n",
              "      <th>next_travel_destination</th>\n",
              "    </tr>\n",
              "  </thead>\n",
              "  <tbody>\n",
              "    <tr>\n",
              "      <th>count</th>\n",
              "      <td>51</td>\n",
              "      <td>51</td>\n",
              "      <td>51</td>\n",
              "      <td>51</td>\n",
              "      <td>51</td>\n",
              "      <td>51</td>\n",
              "      <td>51</td>\n",
              "      <td>51</td>\n",
              "      <td>51</td>\n",
              "      <td>51</td>\n",
              "      <td>51</td>\n",
              "      <td>51</td>\n",
              "      <td>51</td>\n",
              "    </tr>\n",
              "    <tr>\n",
              "      <th>unique</th>\n",
              "      <td>11</td>\n",
              "      <td>7</td>\n",
              "      <td>3</td>\n",
              "      <td>4</td>\n",
              "      <td>5</td>\n",
              "      <td>4</td>\n",
              "      <td>2</td>\n",
              "      <td>4</td>\n",
              "      <td>4</td>\n",
              "      <td>4</td>\n",
              "      <td>4</td>\n",
              "      <td>4</td>\n",
              "      <td>28</td>\n",
              "    </tr>\n",
              "    <tr>\n",
              "      <th>top</th>\n",
              "      <td>Germany</td>\n",
              "      <td>25-34</td>\n",
              "      <td>Female</td>\n",
              "      <td>Unemployed</td>\n",
              "      <td>Under $25,000</td>\n",
              "      <td>Married</td>\n",
              "      <td>By Yourself</td>\n",
              "      <td>Several times per year</td>\n",
              "      <td>Beach/Coastal Resorts</td>\n",
              "      <td>1 Week</td>\n",
              "      <td>With Family</td>\n",
              "      <td>Hotels</td>\n",
              "      <td>Spain</td>\n",
              "    </tr>\n",
              "    <tr>\n",
              "      <th>freq</th>\n",
              "      <td>32</td>\n",
              "      <td>21</td>\n",
              "      <td>35</td>\n",
              "      <td>18</td>\n",
              "      <td>29</td>\n",
              "      <td>28</td>\n",
              "      <td>48</td>\n",
              "      <td>20</td>\n",
              "      <td>25</td>\n",
              "      <td>22</td>\n",
              "      <td>29</td>\n",
              "      <td>24</td>\n",
              "      <td>12</td>\n",
              "    </tr>\n",
              "  </tbody>\n",
              "</table>\n",
              "</div>"
            ],
            "text/plain": [
              "       Location    Age  Gender    Job_Type         Income Marital_Status  \\\n",
              "count        51     51      51          51             51             51   \n",
              "unique       11      7       3           4              5              4   \n",
              "top     Germany  25-34  Female  Unemployed  Under $25,000        Married   \n",
              "freq         32     21      35          18             29             28   \n",
              "\n",
              "          Trip_Plan Travel_frequency(Yearly)           destinations  \\\n",
              "count            51                       51                     51   \n",
              "unique            2                        4                      4   \n",
              "top     By Yourself   Several times per year  Beach/Coastal Resorts   \n",
              "freq             48                       20                     25   \n",
              "\n",
              "       average_duration prefer_traveling accommodation next_travel_destination  \n",
              "count                51               51            51                      51  \n",
              "unique                4                4             4                      28  \n",
              "top              1 Week      With Family        Hotels                   Spain  \n",
              "freq                 22               29            24                      12  "
            ]
          },
          "execution_count": 55,
          "metadata": {},
          "output_type": "execute_result"
        }
      ],
      "source": [
        "tourism_df.describe()"
      ]
    },
    {
      "cell_type": "code",
      "execution_count": 56,
      "id": "sRzhmJoUNjqV",
      "metadata": {
        "id": "sRzhmJoUNjqV",
        "outputId": "5b2bfdf3-bf04-40e0-b816-a95c605441df"
      },
      "outputs": [
        {
          "data": {
            "text/html": [
              "<div>\n",
              "<style scoped>\n",
              "    .dataframe tbody tr th:only-of-type {\n",
              "        vertical-align: middle;\n",
              "    }\n",
              "\n",
              "    .dataframe tbody tr th {\n",
              "        vertical-align: top;\n",
              "    }\n",
              "\n",
              "    .dataframe thead th {\n",
              "        text-align: right;\n",
              "    }\n",
              "</style>\n",
              "<table border=\"1\" class=\"dataframe\">\n",
              "  <thead>\n",
              "    <tr style=\"text-align: right;\">\n",
              "      <th></th>\n",
              "      <th>Location</th>\n",
              "      <th>Age</th>\n",
              "      <th>Gender</th>\n",
              "      <th>Job_Type</th>\n",
              "      <th>Income</th>\n",
              "      <th>Marital_Status</th>\n",
              "      <th>Trip_Plan</th>\n",
              "      <th>Travel_frequency(Yearly)</th>\n",
              "      <th>destinations</th>\n",
              "      <th>average_duration</th>\n",
              "      <th>prefer_traveling</th>\n",
              "      <th>accommodation</th>\n",
              "      <th>next_travel_destination</th>\n",
              "    </tr>\n",
              "  </thead>\n",
              "  <tbody>\n",
              "    <tr>\n",
              "      <th>0</th>\n",
              "      <td>Germany</td>\n",
              "      <td>25-34</td>\n",
              "      <td>Male</td>\n",
              "      <td>Full-time</td>\n",
              "      <td>25,001 - $50,000</td>\n",
              "      <td>Single</td>\n",
              "      <td>By Yourself</td>\n",
              "      <td>Twice a year</td>\n",
              "      <td>Urban Cities</td>\n",
              "      <td>A few days</td>\n",
              "      <td>with Friends</td>\n",
              "      <td>Airbnb</td>\n",
              "      <td>France</td>\n",
              "    </tr>\n",
              "    <tr>\n",
              "      <th>1</th>\n",
              "      <td>Germany</td>\n",
              "      <td>18-24</td>\n",
              "      <td>Female</td>\n",
              "      <td>Student</td>\n",
              "      <td>Under $25,000</td>\n",
              "      <td>Single</td>\n",
              "      <td>By Yourself</td>\n",
              "      <td>Several times per year</td>\n",
              "      <td>Beach/Coastal Resorts</td>\n",
              "      <td>1 Week</td>\n",
              "      <td>with Friends</td>\n",
              "      <td>Airbnb</td>\n",
              "      <td>Turkey</td>\n",
              "    </tr>\n",
              "  </tbody>\n",
              "</table>\n",
              "</div>"
            ],
            "text/plain": [
              "  Location    Age  Gender   Job_Type            Income Marital_Status  \\\n",
              "0  Germany  25-34    Male  Full-time  25,001 - $50,000         Single   \n",
              "1  Germany  18-24  Female    Student     Under $25,000         Single   \n",
              "\n",
              "     Trip_Plan Travel_frequency(Yearly)           destinations  \\\n",
              "0  By Yourself             Twice a year           Urban Cities   \n",
              "1  By Yourself   Several times per year  Beach/Coastal Resorts   \n",
              "\n",
              "  average_duration prefer_traveling accommodation next_travel_destination  \n",
              "0       A few days     with Friends        Airbnb                  France  \n",
              "1           1 Week     with Friends        Airbnb                  Turkey  "
            ]
          },
          "execution_count": 56,
          "metadata": {},
          "output_type": "execute_result"
        }
      ],
      "source": [
        "tourism_df.head(2)"
      ]
    },
    {
      "cell_type": "code",
      "execution_count": 57,
      "id": "b0643388",
      "metadata": {},
      "outputs": [
        {
          "name": "stdout",
          "output_type": "stream",
          "text": [
            "Age\n",
            "25-34           21\n",
            "35-44           20\n",
            "45 - 54          4\n",
            "55 - 64          3\n",
            "18-24            1\n",
            "Less than 18     1\n",
            "65 - 74          1\n",
            "Name: count, dtype: int64\n"
          ]
        },
        {
          "data": {
            "image/png": "[encoded data removed]",
            "text/plain": [
              "<Figure size 640x480 with 1 Axes>"
            ]
          },
          "metadata": {},
          "output_type": "display_data"
        },
        {
          "name": "stdout",
          "output_type": "stream",
          "text": [
            "Income        100,001 - $150,000  25,001 - $50,000  50,001 - $75,000  \\\n",
            "Age                                                                    \n",
            "18-24                          0                 0                 0   \n",
            "25-34                          0                 4                 2   \n",
            "35-44                          1                 6                 1   \n",
            "45 - 54                        0                 1                 1   \n",
            "55 - 64                        0                 0                 1   \n",
            "65 - 74                        0                 0                 1   \n",
            "Less than 18                   0                 0                 0   \n",
            "\n",
            "Income        75,001 - $100,000  Under $25,000  \n",
            "Age                                             \n",
            "18-24                         0              1  \n",
            "25-34                         2             13  \n",
            "35-44                         2             10  \n",
            "45 - 54                       0              2  \n",
            "55 - 64                       0              2  \n",
            "65 - 74                       0              0  \n",
            "Less than 18                  0              1  \n"
          ]
        },
        {
          "data": {
            "image/png": "[encoded data removed]",
            "text/plain": [
              "<Figure size 640x480 with 1 Axes>"
            ]
          },
          "metadata": {},
          "output_type": "display_data"
        }
      ],
      "source": [
        "import pandas as pd\n",
        "import matplotlib.pyplot as plt\n",
        "import seaborn as sns\n",
        "\n",
        "\n",
        "# Summary statistics for categorical variables\n",
        "print(tourism_df['Age'].value_counts())\n",
        "\n",
        "# Create a countplot to visualize the distribution of a categorical variable\n",
        "sns.countplot(x='Age', data=tourism_df)\n",
        "plt.show()\n",
        "\n",
        "# Create a cross-tabulation for two categorical variables\n",
        "cross_tab = pd.crosstab(tourism_df['Age'], tourism_df['Income'])\n",
        "print(cross_tab)\n",
        "\n",
        "# Create a stacked bar chart\n",
        "cross_tab.plot(kind='bar', stacked=True)\n",
        "plt.show()"
      ]
    },
    {
      "cell_type": "code",
      "execution_count": 61,
      "id": "783a6675",
      "metadata": {},
      "outputs": [
        {
          "name": "stdout",
          "output_type": "stream",
          "text": [
            "Age\n",
            "25-34           21\n",
            "35-44           20\n",
            "45 - 54          4\n",
            "55 - 64          3\n",
            "18-24            1\n",
            "Less than 18     1\n",
            "65 - 74          1\n",
            "Name: count, dtype: int64\n"
          ]
        },
        {
          "data": {
            "image/png": "[encoded data removed]",
            "text/plain": [
              "<Figure size 640x480 with 1 Axes>"
            ]
          },
          "metadata": {},
          "output_type": "display_data"
        },
        {
          "name": "stdout",
          "output_type": "stream",
          "text": [
            "destinations  Beach/Coastal Resorts  Historic Sites/Museums  Mountain Resorts  \\\n",
            "Age                                                                             \n",
            "18-24                             1                       0                 0   \n",
            "25-34                             6                       1                 2   \n",
            "35-44                            12                       1                 2   \n",
            "45 - 54                           1                       0                 2   \n",
            "55 - 64                           3                       0                 0   \n",
            "65 - 74                           1                       0                 0   \n",
            "Less than 18                      1                       0                 0   \n",
            "\n",
            "destinations  Urban Cities  \n",
            "Age                         \n",
            "18-24                    0  \n",
            "25-34                   12  \n",
            "35-44                    5  \n",
            "45 - 54                  1  \n",
            "55 - 64                  0  \n",
            "65 - 74                  0  \n",
            "Less than 18             0  \n"
          ]
        },
        {
          "data": {
            "image/png": "[encoded data removed]",
            "text/plain": [
              "<Figure size 640x480 with 1 Axes>"
            ]
          },
          "metadata": {},
          "output_type": "display_data"
        }
      ],
      "source": [
        "import pandas as pd\n",
        "import matplotlib.pyplot as plt\n",
        "import seaborn as sns\n",
        "\n",
        "\n",
        "# Summary statistics for categorical variables\n",
        "print(tourism_df['Age'].value_counts())\n",
        "\n",
        "# Create a countplot to visualize the distribution of a categorical variable\n",
        "sns.countplot(x='Age', data=tourism_df)\n",
        "plt.show()\n",
        "\n",
        "# Create a cross-tabulation for two categorical variables\n",
        "cross_tab = pd.crosstab(tourism_df['Age'], tourism_df['destinations'])\n",
        "print(cross_tab)\n",
        "\n",
        "# Create a stacked bar chart\n",
        "cross_tab.plot(kind='bar', stacked=True)\n",
        "plt.show()"
      ]
    },
    {
      "cell_type": "code",
      "execution_count": null,
      "id": "b2fd0181",
      "metadata": {},
      "outputs": [],
      "source": []
    },
    {
      "cell_type": "code",
      "execution_count": 21,
      "id": "EJEvG7yVNjqV",
      "metadata": {
        "id": "EJEvG7yVNjqV"
      },
      "outputs": [],
      "source": [
        "#tourism_df['Column1'] = pd.to_numeric(df['Column1'], errors='coerce')"
      ]
    },
    {
      "cell_type": "code",
      "execution_count": 22,
      "id": "IqL0ICedNjqV",
      "metadata": {
        "id": "IqL0ICedNjqV"
      },
      "outputs": [],
      "source": [
        "#tourism_df['Age_group'] = tourism_df['Age']"
      ]
    },
    {
      "cell_type": "code",
      "execution_count": 23,
      "id": "pfpyKrYYNjqV",
      "metadata": {
        "id": "pfpyKrYYNjqV"
      },
      "outputs": [],
      "source": [
        "#tourism_df['Age'] = tourism_df['Age'].replace(range('35-44', 40), range('25-34', 30),  range('55-64', 50))"
      ]
    },
    {
      "cell_type": "code",
      "execution_count": 24,
      "id": "7hZwhnNXNjqV",
      "metadata": {
        "id": "7hZwhnNXNjqV",
        "outputId": "8d678067-04d2-42eb-f5fe-df2b5548cb7f"
      },
      "outputs": [
        {
          "data": {
            "text/plain": [
              "0            25-34\n",
              "1            18-24\n",
              "2            35-44\n",
              "3            25-34\n",
              "4          45 - 54\n",
              "5     Less than 18\n",
              "6          55 - 64\n",
              "9            35-44\n",
              "10         45 - 54\n",
              "11         65 - 74\n",
              "12         55 - 64\n",
              "13         55 - 64\n",
              "15           35-44\n",
              "16           35-44\n",
              "17         45 - 54\n",
              "Name: Age, dtype: object"
            ]
          },
          "execution_count": 24,
          "metadata": {},
          "output_type": "execute_result"
        }
      ],
      "source": [
        "tourism_df['Age'].head(15)"
      ]
    },
    {
      "cell_type": "code",
      "execution_count": 25,
      "id": "3segxuQTNjqV",
      "metadata": {
        "id": "3segxuQTNjqV"
      },
      "outputs": [],
      "source": [
        "weeks_to_days = {\n",
        "    'A few days': 5,\n",
        "    '1 Week': 7,\n",
        "    '2 Weeks': 14,\n",
        "    '3 Weeks': 21,\n",
        "    'Longer than 3 Weeks': 25\n",
        "}"
      ]
    },
    {
      "cell_type": "code",
      "execution_count": 26,
      "id": "kgkuMC5fNjqV",
      "metadata": {
        "id": "kgkuMC5fNjqV"
      },
      "outputs": [],
      "source": [
        "tourism_df['average_duration'] = tourism_df['average_duration'].map(weeks_to_days)"
      ]
    },
    {
      "cell_type": "code",
      "execution_count": 28,
      "id": "5XKUMsfuNjqV",
      "metadata": {
        "id": "5XKUMsfuNjqV",
        "outputId": "48e807c2-1f46-4160-8765-e51c08c00cd0"
      },
      "outputs": [
        {
          "data": {
            "text/html": [
              "<div>\n",
              "<style scoped>\n",
              "    .dataframe tbody tr th:only-of-type {\n",
              "        vertical-align: middle;\n",
              "    }\n",
              "\n",
              "    .dataframe tbody tr th {\n",
              "        vertical-align: top;\n",
              "    }\n",
              "\n",
              "    .dataframe thead th {\n",
              "        text-align: right;\n",
              "    }\n",
              "</style>\n",
              "<table border=\"1\" class=\"dataframe\">\n",
              "  <thead>\n",
              "    <tr style=\"text-align: right;\">\n",
              "      <th></th>\n",
              "      <th>Location</th>\n",
              "      <th>Age</th>\n",
              "      <th>Gender</th>\n",
              "      <th>Job_Type</th>\n",
              "      <th>Income</th>\n",
              "      <th>Marital_Status</th>\n",
              "      <th>Trip_Plan</th>\n",
              "      <th>Travel_frequency(Yearly)</th>\n",
              "      <th>destinations</th>\n",
              "      <th>average_duration</th>\n",
              "      <th>prefer_traveling</th>\n",
              "      <th>accommodation</th>\n",
              "      <th>next_travel_destination</th>\n",
              "    </tr>\n",
              "  </thead>\n",
              "  <tbody>\n",
              "    <tr>\n",
              "      <th>0</th>\n",
              "      <td>Germany</td>\n",
              "      <td>25-34</td>\n",
              "      <td>Male</td>\n",
              "      <td>Full-time</td>\n",
              "      <td>25,001 - $50,000</td>\n",
              "      <td>Single</td>\n",
              "      <td>By Yourself</td>\n",
              "      <td>Twice a year</td>\n",
              "      <td>Urban Cities</td>\n",
              "      <td>5</td>\n",
              "      <td>with Friends</td>\n",
              "      <td>Airbnb</td>\n",
              "      <td>France</td>\n",
              "    </tr>\n",
              "    <tr>\n",
              "      <th>1</th>\n",
              "      <td>Germany</td>\n",
              "      <td>18-24</td>\n",
              "      <td>Female</td>\n",
              "      <td>Student</td>\n",
              "      <td>Under $25,000</td>\n",
              "      <td>Single</td>\n",
              "      <td>By Yourself</td>\n",
              "      <td>Several times per year</td>\n",
              "      <td>Beach/Coastal Resorts</td>\n",
              "      <td>7</td>\n",
              "      <td>with Friends</td>\n",
              "      <td>Airbnb</td>\n",
              "      <td>Turkey</td>\n",
              "    </tr>\n",
              "    <tr>\n",
              "      <th>2</th>\n",
              "      <td>Spain</td>\n",
              "      <td>35-44</td>\n",
              "      <td>Male</td>\n",
              "      <td>Full-time</td>\n",
              "      <td>25,001 - $50,000</td>\n",
              "      <td>Single</td>\n",
              "      <td>By Yourself</td>\n",
              "      <td>Several times per year</td>\n",
              "      <td>Urban Cities</td>\n",
              "      <td>5</td>\n",
              "      <td>with Friends</td>\n",
              "      <td>Airbnb</td>\n",
              "      <td>Turkey</td>\n",
              "    </tr>\n",
              "  </tbody>\n",
              "</table>\n",
              "</div>"
            ],
            "text/plain": [
              "  Location    Age  Gender   Job_Type            Income Marital_Status  \\\n",
              "0  Germany  25-34    Male  Full-time  25,001 - $50,000         Single   \n",
              "1  Germany  18-24  Female    Student     Under $25,000         Single   \n",
              "2    Spain  35-44    Male  Full-time  25,001 - $50,000         Single   \n",
              "\n",
              "     Trip_Plan Travel_frequency(Yearly)           destinations  \\\n",
              "0  By Yourself             Twice a year           Urban Cities   \n",
              "1  By Yourself   Several times per year  Beach/Coastal Resorts   \n",
              "2  By Yourself   Several times per year           Urban Cities   \n",
              "\n",
              "   average_duration prefer_traveling accommodation next_travel_destination  \n",
              "0                 5     with Friends        Airbnb                  France  \n",
              "1                 7     with Friends        Airbnb                  Turkey  \n",
              "2                 5     with Friends        Airbnb                  Turkey  "
            ]
          },
          "execution_count": 28,
          "metadata": {},
          "output_type": "execute_result"
        }
      ],
      "source": [
        "tourism_df.head(3)"
      ]
    },
    {
      "cell_type": "code",
      "execution_count": 42,
      "id": "fbe68eda",
      "metadata": {},
      "outputs": [
        {
          "name": "stdout",
          "output_type": "stream",
          "text": [
            "Age\n",
            "30.0    21\n",
            "40.0    20\n",
            "17.0     1\n",
            "Name: count, dtype: int64\n"
          ]
        },
        {
          "data": {
            "image/png": "[encoded data removed]",
            "text/plain": [
              "<Figure size 640x480 with 1 Axes>"
            ]
          },
          "metadata": {},
          "output_type": "display_data"
        },
        {
          "name": "stdout",
          "output_type": "stream",
          "text": [
            "Income  25000.0   37500.5   62500.5   87500.5   125000.5\n",
            "Age                                                     \n",
            "17.0           1         0         0         0         0\n",
            "30.0          13         4         2         2         0\n",
            "40.0          10         6         1         2         1\n"
          ]
        },
        {
          "data": {
            "image/png": "[encoded data removed]",
            "text/plain": [
              "<Figure size 640x480 with 1 Axes>"
            ]
          },
          "metadata": {},
          "output_type": "display_data"
        }
      ],
      "source": [
        "import pandas as pd\n",
        "import matplotlib.pyplot as plt\n",
        "import seaborn as sns\n",
        "\n",
        "\n",
        "# Summary statistics for categorical variables\n",
        "print(tourism_df['Age'].value_counts())\n",
        "\n",
        "# Create a countplot to visualize the distribution of a categorical variable\n",
        "sns.countplot(x='Age', data=tourism_df)\n",
        "plt.show()\n",
        "\n",
        "# Create a cross-tabulation for two categorical variables\n",
        "cross_tab = pd.crosstab(tourism_df['Age'], tourism_df['Income'])\n",
        "print(cross_tab)\n",
        "\n",
        "# Create a stacked bar chart\n",
        "cross_tab.plot(kind='bar', stacked=True)\n",
        "plt.show()"
      ]
    },
    {
      "cell_type": "code",
      "execution_count": null,
      "id": "7b8870f7",
      "metadata": {},
      "outputs": [],
      "source": []
    },
    {
      "cell_type": "code",
      "execution_count": 29,
      "id": "8QfeL9t1NjqV",
      "metadata": {
        "id": "8QfeL9t1NjqV",
        "outputId": "d76a3cb9-c211-4b34-fb9d-52503628997b"
      },
      "outputs": [
        {
          "data": {
            "text/plain": [
              "dtype('O')"
            ]
          },
          "execution_count": 29,
          "metadata": {},
          "output_type": "execute_result"
        }
      ],
      "source": [
        "tourism_df['Age'].dtype"
      ]
    },
    {
      "cell_type": "code",
      "execution_count": 30,
      "id": "Dmg_pxrbNjqV",
      "metadata": {
        "id": "Dmg_pxrbNjqV"
      },
      "outputs": [],
      "source": [
        "age_groups = {\n",
        "    '25-34': 30,\n",
        "    '35-44': 40,\n",
        "    '45-54': 50,\n",
        "    '55-64': 60,\n",
        "    '65-74': 70,\n",
        "    'Less than 18': 17\n",
        "}"
      ]
    },
    {
      "cell_type": "code",
      "execution_count": 31,
      "id": "tO4qMd0dNjqV",
      "metadata": {
        "id": "tO4qMd0dNjqV"
      },
      "outputs": [],
      "source": [
        "tourism_df['Age'] = tourism_df['Age'].map(age_groups)\n",
        "#tourism_df['Age Group Numerical'] = tourism_df['Age'].apply(lambda x: age_groups[x])"
      ]
    },
    {
      "cell_type": "code",
      "execution_count": 33,
      "id": "-Et1mHRuNjqV",
      "metadata": {
        "id": "-Et1mHRuNjqV",
        "outputId": "5f1a2c7b-2e68-44c0-dfba-667dd2880c55"
      },
      "outputs": [
        {
          "data": {
            "text/html": [
              "<div>\n",
              "<style scoped>\n",
              "    .dataframe tbody tr th:only-of-type {\n",
              "        vertical-align: middle;\n",
              "    }\n",
              "\n",
              "    .dataframe tbody tr th {\n",
              "        vertical-align: top;\n",
              "    }\n",
              "\n",
              "    .dataframe thead th {\n",
              "        text-align: right;\n",
              "    }\n",
              "</style>\n",
              "<table border=\"1\" class=\"dataframe\">\n",
              "  <thead>\n",
              "    <tr style=\"text-align: right;\">\n",
              "      <th></th>\n",
              "      <th>Location</th>\n",
              "      <th>Age</th>\n",
              "      <th>Gender</th>\n",
              "      <th>Job_Type</th>\n",
              "      <th>Income</th>\n",
              "      <th>Marital_Status</th>\n",
              "      <th>Trip_Plan</th>\n",
              "      <th>Travel_frequency(Yearly)</th>\n",
              "      <th>destinations</th>\n",
              "      <th>average_duration</th>\n",
              "      <th>prefer_traveling</th>\n",
              "      <th>accommodation</th>\n",
              "      <th>next_travel_destination</th>\n",
              "    </tr>\n",
              "  </thead>\n",
              "  <tbody>\n",
              "    <tr>\n",
              "      <th>0</th>\n",
              "      <td>Germany</td>\n",
              "      <td>30.0</td>\n",
              "      <td>Male</td>\n",
              "      <td>Full-time</td>\n",
              "      <td>25,001 - $50,000</td>\n",
              "      <td>Single</td>\n",
              "      <td>By Yourself</td>\n",
              "      <td>Twice a year</td>\n",
              "      <td>Urban Cities</td>\n",
              "      <td>5</td>\n",
              "      <td>with Friends</td>\n",
              "      <td>Airbnb</td>\n",
              "      <td>France</td>\n",
              "    </tr>\n",
              "    <tr>\n",
              "      <th>1</th>\n",
              "      <td>Germany</td>\n",
              "      <td>NaN</td>\n",
              "      <td>Female</td>\n",
              "      <td>Student</td>\n",
              "      <td>Under $25,000</td>\n",
              "      <td>Single</td>\n",
              "      <td>By Yourself</td>\n",
              "      <td>Several times per year</td>\n",
              "      <td>Beach/Coastal Resorts</td>\n",
              "      <td>7</td>\n",
              "      <td>with Friends</td>\n",
              "      <td>Airbnb</td>\n",
              "      <td>Turkey</td>\n",
              "    </tr>\n",
              "    <tr>\n",
              "      <th>2</th>\n",
              "      <td>Spain</td>\n",
              "      <td>40.0</td>\n",
              "      <td>Male</td>\n",
              "      <td>Full-time</td>\n",
              "      <td>25,001 - $50,000</td>\n",
              "      <td>Single</td>\n",
              "      <td>By Yourself</td>\n",
              "      <td>Several times per year</td>\n",
              "      <td>Urban Cities</td>\n",
              "      <td>5</td>\n",
              "      <td>with Friends</td>\n",
              "      <td>Airbnb</td>\n",
              "      <td>Turkey</td>\n",
              "    </tr>\n",
              "  </tbody>\n",
              "</table>\n",
              "</div>"
            ],
            "text/plain": [
              "  Location   Age  Gender   Job_Type            Income Marital_Status  \\\n",
              "0  Germany  30.0    Male  Full-time  25,001 - $50,000         Single   \n",
              "1  Germany   NaN  Female    Student     Under $25,000         Single   \n",
              "2    Spain  40.0    Male  Full-time  25,001 - $50,000         Single   \n",
              "\n",
              "     Trip_Plan Travel_frequency(Yearly)           destinations  \\\n",
              "0  By Yourself             Twice a year           Urban Cities   \n",
              "1  By Yourself   Several times per year  Beach/Coastal Resorts   \n",
              "2  By Yourself   Several times per year           Urban Cities   \n",
              "\n",
              "   average_duration prefer_traveling accommodation next_travel_destination  \n",
              "0                 5     with Friends        Airbnb                  France  \n",
              "1                 7     with Friends        Airbnb                  Turkey  \n",
              "2                 5     with Friends        Airbnb                  Turkey  "
            ]
          },
          "execution_count": 33,
          "metadata": {},
          "output_type": "execute_result"
        }
      ],
      "source": [
        "tourism_df.head(3)"
      ]
    },
    {
      "cell_type": "code",
      "execution_count": 34,
      "id": "9L6SP8YvNjqV",
      "metadata": {
        "id": "9L6SP8YvNjqV"
      },
      "outputs": [],
      "source": [
        "tourism_df['Income'] = tourism_df['Income'].str.replace('$', '').str.replace(',', '')\n",
        "#tourism_df[['Lower Bound', 'Upper Bound']] = tourism_df['Income'].str.replace('$', '').str.replace(',', '').str.split(' - ', expand=True).astype(int)"
      ]
    },
    {
      "cell_type": "code",
      "execution_count": 35,
      "id": "JNgwMZlLNjqV",
      "metadata": {
        "id": "JNgwMZlLNjqV"
      },
      "outputs": [],
      "source": [
        "def clean_salary_range(Income):\n",
        "    if 'Under' in Income:\n",
        "        return 0  # Handle 'Under $25000'\n",
        "    lower, upper = map(int, Income.replace('$', '').replace(',', '').replace('Over ', '').split('-'))\n",
        "    return (lower + upper) / 2\n",
        "\n",
        "# Clean the 'Salary Range' column and create a new 'Average Salary' column\n",
        "tourism_df['Average Salary'] = tourism_df['Income'].apply(clean_salary_range)\n"
      ]
    },
    {
      "cell_type": "code",
      "execution_count": 36,
      "id": "WduEGjo0NjqW",
      "metadata": {
        "id": "WduEGjo0NjqW",
        "outputId": "5dbc4cc0-ea72-499c-c2b7-c72b28143454"
      },
      "outputs": [
        {
          "data": {
            "text/html": [
              "<div>\n",
              "<style scoped>\n",
              "    .dataframe tbody tr th:only-of-type {\n",
              "        vertical-align: middle;\n",
              "    }\n",
              "\n",
              "    .dataframe tbody tr th {\n",
              "        vertical-align: top;\n",
              "    }\n",
              "\n",
              "    .dataframe thead th {\n",
              "        text-align: right;\n",
              "    }\n",
              "</style>\n",
              "<table border=\"1\" class=\"dataframe\">\n",
              "  <thead>\n",
              "    <tr style=\"text-align: right;\">\n",
              "      <th></th>\n",
              "      <th>Location</th>\n",
              "      <th>Age</th>\n",
              "      <th>Gender</th>\n",
              "      <th>Job_Type</th>\n",
              "      <th>Income</th>\n",
              "      <th>Marital_Status</th>\n",
              "      <th>Trip_Plan</th>\n",
              "      <th>Travel_frequency(Yearly)</th>\n",
              "      <th>destinations</th>\n",
              "      <th>average_duration</th>\n",
              "      <th>prefer_traveling</th>\n",
              "      <th>accommodation</th>\n",
              "      <th>next_travel_destination</th>\n",
              "      <th>Average Salary</th>\n",
              "    </tr>\n",
              "  </thead>\n",
              "  <tbody>\n",
              "    <tr>\n",
              "      <th>0</th>\n",
              "      <td>Germany</td>\n",
              "      <td>30.0</td>\n",
              "      <td>Male</td>\n",
              "      <td>Full-time</td>\n",
              "      <td>25001 - 50000</td>\n",
              "      <td>Single</td>\n",
              "      <td>By Yourself</td>\n",
              "      <td>Twice a year</td>\n",
              "      <td>Urban Cities</td>\n",
              "      <td>5</td>\n",
              "      <td>with Friends</td>\n",
              "      <td>Airbnb</td>\n",
              "      <td>France</td>\n",
              "      <td>37500.5</td>\n",
              "    </tr>\n",
              "    <tr>\n",
              "      <th>1</th>\n",
              "      <td>Germany</td>\n",
              "      <td>NaN</td>\n",
              "      <td>Female</td>\n",
              "      <td>Student</td>\n",
              "      <td>Under 25000</td>\n",
              "      <td>Single</td>\n",
              "      <td>By Yourself</td>\n",
              "      <td>Several times per year</td>\n",
              "      <td>Beach/Coastal Resorts</td>\n",
              "      <td>7</td>\n",
              "      <td>with Friends</td>\n",
              "      <td>Airbnb</td>\n",
              "      <td>Turkey</td>\n",
              "      <td>0.0</td>\n",
              "    </tr>\n",
              "    <tr>\n",
              "      <th>2</th>\n",
              "      <td>Spain</td>\n",
              "      <td>40.0</td>\n",
              "      <td>Male</td>\n",
              "      <td>Full-time</td>\n",
              "      <td>25001 - 50000</td>\n",
              "      <td>Single</td>\n",
              "      <td>By Yourself</td>\n",
              "      <td>Several times per year</td>\n",
              "      <td>Urban Cities</td>\n",
              "      <td>5</td>\n",
              "      <td>with Friends</td>\n",
              "      <td>Airbnb</td>\n",
              "      <td>Turkey</td>\n",
              "      <td>37500.5</td>\n",
              "    </tr>\n",
              "  </tbody>\n",
              "</table>\n",
              "</div>"
            ],
            "text/plain": [
              "  Location   Age  Gender   Job_Type         Income Marital_Status  \\\n",
              "0  Germany  30.0    Male  Full-time  25001 - 50000         Single   \n",
              "1  Germany   NaN  Female    Student    Under 25000         Single   \n",
              "2    Spain  40.0    Male  Full-time  25001 - 50000         Single   \n",
              "\n",
              "     Trip_Plan Travel_frequency(Yearly)           destinations  \\\n",
              "0  By Yourself             Twice a year           Urban Cities   \n",
              "1  By Yourself   Several times per year  Beach/Coastal Resorts   \n",
              "2  By Yourself   Several times per year           Urban Cities   \n",
              "\n",
              "   average_duration prefer_traveling accommodation next_travel_destination  \\\n",
              "0                 5     with Friends        Airbnb                  France   \n",
              "1                 7     with Friends        Airbnb                  Turkey   \n",
              "2                 5     with Friends        Airbnb                  Turkey   \n",
              "\n",
              "   Average Salary  \n",
              "0         37500.5  \n",
              "1             0.0  \n",
              "2         37500.5  "
            ]
          },
          "execution_count": 36,
          "metadata": {},
          "output_type": "execute_result"
        }
      ],
      "source": [
        "tourism_df.head(3)"
      ]
    },
    {
      "cell_type": "code",
      "execution_count": 37,
      "id": "4Ki8p1wvNjqW",
      "metadata": {
        "id": "4Ki8p1wvNjqW"
      },
      "outputs": [],
      "source": [
        "#tourism_df['Income'] = tourism_df['Income'].apply(lambda x: sum(map(int, x.replace(',', '').split()[:2])) / 2\n",
        "                                    #if 'Under' not in x else 25000)\n",
        "\n",
        "def convert_income_range(income_range):\n",
        "    if 'Under' in income_range:\n",
        "        return 25000\n",
        "    lower, upper = map(int, income_range.replace(',', '').split(' - '))\n",
        "    return (lower + upper) / 2\n",
        "\n",
        "# Clean the 'Income' column by applying the conversion function\n",
        "tourism_df['Income'] = tourism_df['Income'].apply(convert_income_range)"
      ]
    },
    {
      "cell_type": "code",
      "execution_count": 38,
      "id": "Rox8bC0hNjqW",
      "metadata": {
        "id": "Rox8bC0hNjqW",
        "outputId": "bb881a00-30e4-471d-c900-80adc83c0e43"
      },
      "outputs": [
        {
          "data": {
            "text/html": [
              "<div>\n",
              "<style scoped>\n",
              "    .dataframe tbody tr th:only-of-type {\n",
              "        vertical-align: middle;\n",
              "    }\n",
              "\n",
              "    .dataframe tbody tr th {\n",
              "        vertical-align: top;\n",
              "    }\n",
              "\n",
              "    .dataframe thead th {\n",
              "        text-align: right;\n",
              "    }\n",
              "</style>\n",
              "<table border=\"1\" class=\"dataframe\">\n",
              "  <thead>\n",
              "    <tr style=\"text-align: right;\">\n",
              "      <th></th>\n",
              "      <th>Location</th>\n",
              "      <th>Age</th>\n",
              "      <th>Gender</th>\n",
              "      <th>Job_Type</th>\n",
              "      <th>Income</th>\n",
              "      <th>Marital_Status</th>\n",
              "      <th>Trip_Plan</th>\n",
              "      <th>Travel_frequency(Yearly)</th>\n",
              "      <th>destinations</th>\n",
              "      <th>average_duration</th>\n",
              "      <th>prefer_traveling</th>\n",
              "      <th>accommodation</th>\n",
              "      <th>next_travel_destination</th>\n",
              "      <th>Average Salary</th>\n",
              "    </tr>\n",
              "  </thead>\n",
              "  <tbody>\n",
              "    <tr>\n",
              "      <th>0</th>\n",
              "      <td>Germany</td>\n",
              "      <td>30.0</td>\n",
              "      <td>Male</td>\n",
              "      <td>Full-time</td>\n",
              "      <td>37500.5</td>\n",
              "      <td>Single</td>\n",
              "      <td>By Yourself</td>\n",
              "      <td>Twice a year</td>\n",
              "      <td>Urban Cities</td>\n",
              "      <td>5</td>\n",
              "      <td>with Friends</td>\n",
              "      <td>Airbnb</td>\n",
              "      <td>France</td>\n",
              "      <td>37500.5</td>\n",
              "    </tr>\n",
              "    <tr>\n",
              "      <th>1</th>\n",
              "      <td>Germany</td>\n",
              "      <td>NaN</td>\n",
              "      <td>Female</td>\n",
              "      <td>Student</td>\n",
              "      <td>25000.0</td>\n",
              "      <td>Single</td>\n",
              "      <td>By Yourself</td>\n",
              "      <td>Several times per year</td>\n",
              "      <td>Beach/Coastal Resorts</td>\n",
              "      <td>7</td>\n",
              "      <td>with Friends</td>\n",
              "      <td>Airbnb</td>\n",
              "      <td>Turkey</td>\n",
              "      <td>0.0</td>\n",
              "    </tr>\n",
              "    <tr>\n",
              "      <th>2</th>\n",
              "      <td>Spain</td>\n",
              "      <td>40.0</td>\n",
              "      <td>Male</td>\n",
              "      <td>Full-time</td>\n",
              "      <td>37500.5</td>\n",
              "      <td>Single</td>\n",
              "      <td>By Yourself</td>\n",
              "      <td>Several times per year</td>\n",
              "      <td>Urban Cities</td>\n",
              "      <td>5</td>\n",
              "      <td>with Friends</td>\n",
              "      <td>Airbnb</td>\n",
              "      <td>Turkey</td>\n",
              "      <td>37500.5</td>\n",
              "    </tr>\n",
              "  </tbody>\n",
              "</table>\n",
              "</div>"
            ],
            "text/plain": [
              "  Location   Age  Gender   Job_Type   Income Marital_Status    Trip_Plan  \\\n",
              "0  Germany  30.0    Male  Full-time  37500.5         Single  By Yourself   \n",
              "1  Germany   NaN  Female    Student  25000.0         Single  By Yourself   \n",
              "2    Spain  40.0    Male  Full-time  37500.5         Single  By Yourself   \n",
              "\n",
              "  Travel_frequency(Yearly)           destinations  average_duration  \\\n",
              "0             Twice a year           Urban Cities                 5   \n",
              "1   Several times per year  Beach/Coastal Resorts                 7   \n",
              "2   Several times per year           Urban Cities                 5   \n",
              "\n",
              "  prefer_traveling accommodation next_travel_destination  Average Salary  \n",
              "0     with Friends        Airbnb                  France         37500.5  \n",
              "1     with Friends        Airbnb                  Turkey             0.0  \n",
              "2     with Friends        Airbnb                  Turkey         37500.5  "
            ]
          },
          "execution_count": 38,
          "metadata": {},
          "output_type": "execute_result"
        }
      ],
      "source": [
        "tourism_df.head(3)"
      ]
    },
    {
      "cell_type": "code",
      "execution_count": 39,
      "id": "T1x16TVtNjqW",
      "metadata": {
        "id": "T1x16TVtNjqW"
      },
      "outputs": [],
      "source": [
        "tourism_df = tourism_df.drop(['Average Salary'], axis=1)"
      ]
    },
    {
      "cell_type": "code",
      "execution_count": 40,
      "id": "4cWNyV6zNjqW",
      "metadata": {
        "id": "4cWNyV6zNjqW",
        "outputId": "7ec25718-7d3a-4294-a7a7-dd482f304e0f"
      },
      "outputs": [
        {
          "data": {
            "text/html": [
              "<div>\n",
              "<style scoped>\n",
              "    .dataframe tbody tr th:only-of-type {\n",
              "        vertical-align: middle;\n",
              "    }\n",
              "\n",
              "    .dataframe tbody tr th {\n",
              "        vertical-align: top;\n",
              "    }\n",
              "\n",
              "    .dataframe thead th {\n",
              "        text-align: right;\n",
              "    }\n",
              "</style>\n",
              "<table border=\"1\" class=\"dataframe\">\n",
              "  <thead>\n",
              "    <tr style=\"text-align: right;\">\n",
              "      <th></th>\n",
              "      <th>Location</th>\n",
              "      <th>Age</th>\n",
              "      <th>Gender</th>\n",
              "      <th>Job_Type</th>\n",
              "      <th>Income</th>\n",
              "      <th>Marital_Status</th>\n",
              "      <th>Trip_Plan</th>\n",
              "      <th>Travel_frequency(Yearly)</th>\n",
              "      <th>destinations</th>\n",
              "      <th>average_duration</th>\n",
              "      <th>prefer_traveling</th>\n",
              "      <th>accommodation</th>\n",
              "      <th>next_travel_destination</th>\n",
              "    </tr>\n",
              "  </thead>\n",
              "  <tbody>\n",
              "    <tr>\n",
              "      <th>0</th>\n",
              "      <td>Germany</td>\n",
              "      <td>30.0</td>\n",
              "      <td>Male</td>\n",
              "      <td>Full-time</td>\n",
              "      <td>37500.5</td>\n",
              "      <td>Single</td>\n",
              "      <td>By Yourself</td>\n",
              "      <td>Twice a year</td>\n",
              "      <td>Urban Cities</td>\n",
              "      <td>5</td>\n",
              "      <td>with Friends</td>\n",
              "      <td>Airbnb</td>\n",
              "      <td>France</td>\n",
              "    </tr>\n",
              "    <tr>\n",
              "      <th>1</th>\n",
              "      <td>Germany</td>\n",
              "      <td>NaN</td>\n",
              "      <td>Female</td>\n",
              "      <td>Student</td>\n",
              "      <td>25000.0</td>\n",
              "      <td>Single</td>\n",
              "      <td>By Yourself</td>\n",
              "      <td>Several times per year</td>\n",
              "      <td>Beach/Coastal Resorts</td>\n",
              "      <td>7</td>\n",
              "      <td>with Friends</td>\n",
              "      <td>Airbnb</td>\n",
              "      <td>Turkey</td>\n",
              "    </tr>\n",
              "    <tr>\n",
              "      <th>2</th>\n",
              "      <td>Spain</td>\n",
              "      <td>40.0</td>\n",
              "      <td>Male</td>\n",
              "      <td>Full-time</td>\n",
              "      <td>37500.5</td>\n",
              "      <td>Single</td>\n",
              "      <td>By Yourself</td>\n",
              "      <td>Several times per year</td>\n",
              "      <td>Urban Cities</td>\n",
              "      <td>5</td>\n",
              "      <td>with Friends</td>\n",
              "      <td>Airbnb</td>\n",
              "      <td>Turkey</td>\n",
              "    </tr>\n",
              "  </tbody>\n",
              "</table>\n",
              "</div>"
            ],
            "text/plain": [
              "  Location   Age  Gender   Job_Type   Income Marital_Status    Trip_Plan  \\\n",
              "0  Germany  30.0    Male  Full-time  37500.5         Single  By Yourself   \n",
              "1  Germany   NaN  Female    Student  25000.0         Single  By Yourself   \n",
              "2    Spain  40.0    Male  Full-time  37500.5         Single  By Yourself   \n",
              "\n",
              "  Travel_frequency(Yearly)           destinations  average_duration  \\\n",
              "0             Twice a year           Urban Cities                 5   \n",
              "1   Several times per year  Beach/Coastal Resorts                 7   \n",
              "2   Several times per year           Urban Cities                 5   \n",
              "\n",
              "  prefer_traveling accommodation next_travel_destination  \n",
              "0     with Friends        Airbnb                  France  \n",
              "1     with Friends        Airbnb                  Turkey  \n",
              "2     with Friends        Airbnb                  Turkey  "
            ]
          },
          "execution_count": 40,
          "metadata": {},
          "output_type": "execute_result"
        }
      ],
      "source": [
        "tourism_df.head(3)"
      ]
    },
    {
      "cell_type": "code",
      "execution_count": null,
      "id": "C8P_V2LGNjqW",
      "metadata": {
        "id": "C8P_V2LGNjqW",
        "outputId": "02042b17-701c-49a2-fb69-21099fdc0b62"
      },
      "outputs": [
        {
          "data": {
            "image/png": "[encoded data removed]",
            "text/plain": [
              "<Figure size 576x432 with 1 Axes>"
            ]
          },
          "metadata": {
            "needs_background": "light"
          },
          "output_type": "display_data"
        }
      ],
      "source": [
        "import matplotlib.pyplot as plt\n",
        "\n",
        "average_income_by_age = tourism_df.groupby('Age')['Income'].mean()\n",
        "\n",
        "plt.figure(figsize=(8, 6))\n",
        "average_income_by_age.plot(kind='bar', color='skyblue')\n",
        "plt.xlabel('Age')\n",
        "plt.ylabel('Average Income')\n",
        "plt.title('Average Income by Age Group')\n",
        "plt.xticks(rotation=0)\n",
        "plt.show()"
      ]
    },
    {
      "cell_type": "code",
      "execution_count": null,
      "id": "4btqznrXNjqW",
      "metadata": {
        "id": "4btqznrXNjqW",
        "outputId": "83b17ac1-7cfe-4c8a-e200-9282fc2b1f53"
      },
      "outputs": [
        {
          "data": {
            "image/png": "[encoded data removed]",
            "text/plain": [
              "<Figure size 720x576 with 2 Axes>"
            ]
          },
          "metadata": {
            "needs_background": "light"
          },
          "output_type": "display_data"
        }
      ],
      "source": [
        "import seaborn as sns\n",
        "import matplotlib.pyplot as plt\n",
        "\n",
        "# Assuming df is your DataFrame\n",
        "numeric_cols = ['Age', 'Income', 'Travel_frequency(Yearly)', 'average_duration']\n",
        "correlation_matrix = tourism_df[numeric_cols].corr()\n",
        "\n",
        "plt.figure(figsize=(10, 8))\n",
        "sns.heatmap(correlation_matrix, annot=True, cmap='coolwarm', fmt=\".2f\")\n",
        "plt.title('Correlation Heatmap')\n",
        "plt.show()"
      ]
    },
    {
      "cell_type": "code",
      "execution_count": null,
      "id": "iBi15ccONjqW",
      "metadata": {
        "id": "iBi15ccONjqW",
        "outputId": "efe50e05-3ce4-4376-f804-91efca621411"
      },
      "outputs": [
        {
          "data": {
            "image/png": "[encoded data removed]",
            "text/plain": [
              "<Figure size 864x720 with 8 Axes>"
            ]
          },
          "metadata": {
            "needs_background": "light"
          },
          "output_type": "display_data"
        }
      ],
      "source": [
        "categorical_cols = ['Location', 'Gender', 'Job_Type', 'Marital_Status', 'Trip_Plan',\n",
        "                    'prefer_traveling', 'accommodation', 'next_travel_destination']\n",
        "\n",
        "plt.figure(figsize=(12, 10))\n",
        "for i, col in enumerate(categorical_cols, 1):\n",
        "    plt.subplot(3, 3, i)\n",
        "    tourism_df[col].value_counts().plot(kind='bar', color='skyblue')\n",
        "    plt.xlabel(col)\n",
        "    plt.ylabel('Count')\n",
        "    plt.title(f'{col} Distribution')\n",
        "    plt.xticks(rotation=45)\n",
        "plt.tight_layout()\n",
        "plt.show()"
      ]
    },
    {
      "cell_type": "code",
      "execution_count": null,
      "id": "-D0eVNw3NjqW",
      "metadata": {
        "id": "-D0eVNw3NjqW",
        "outputId": "72cfaad2-fa3c-4045-c684-c555169f2c27"
      },
      "outputs": [
        {
          "data": {
            "image/png": "[encoded data removed]",
            "text/plain": [
              "<Figure size 864x432 with 1 Axes>"
            ]
          },
          "metadata": {
            "needs_background": "light"
          },
          "output_type": "display_data"
        }
      ],
      "source": [
        "plt.figure(figsize=(12, 6))\n",
        "sns.countplot(x='Location', hue='Gender', data=tourism_df, palette='coolwarm')\n",
        "plt.xlabel('Location')\n",
        "plt.ylabel('Count')\n",
        "plt.title('Gender Distribution across Locations')\n",
        "plt.xticks(rotation=45)\n",
        "plt.legend(title='Gender', loc='upper right')\n",
        "plt.show()"
      ]
    },
    {
      "cell_type": "code",
      "execution_count": 62,
      "id": "BIaIvqm8NjqW",
      "metadata": {
        "id": "BIaIvqm8NjqW"
      },
      "outputs": [
        {
          "name": "stdout",
          "output_type": "stream",
          "text": [
            "Age\n",
            "25-34           21\n",
            "35-44           20\n",
            "45 - 54          4\n",
            "55 - 64          3\n",
            "18-24            1\n",
            "Less than 18     1\n",
            "65 - 74          1\n",
            "Name: count, dtype: int64\n"
          ]
        },
        {
          "data": {
            "image/png": "[encoded data removed]",
            "text/plain": [
              "<Figure size 640x480 with 1 Axes>"
            ]
          },
          "metadata": {},
          "output_type": "display_data"
        },
        {
          "name": "stdout",
          "output_type": "stream",
          "text": [
            "Income        100,001 - $150,000  25,001 - $50,000  50,001 - $75,000  \\\n",
            "Age                                                                    \n",
            "18-24                          0                 0                 0   \n",
            "25-34                          0                 4                 2   \n",
            "35-44                          1                 6                 1   \n",
            "45 - 54                        0                 1                 1   \n",
            "55 - 64                        0                 0                 1   \n",
            "65 - 74                        0                 0                 1   \n",
            "Less than 18                   0                 0                 0   \n",
            "\n",
            "Income        75,001 - $100,000  Under $25,000  \n",
            "Age                                             \n",
            "18-24                         0              1  \n",
            "25-34                         2             13  \n",
            "35-44                         2             10  \n",
            "45 - 54                       0              2  \n",
            "55 - 64                       0              2  \n",
            "65 - 74                       0              0  \n",
            "Less than 18                  0              1  \n"
          ]
        },
        {
          "data": {
            "image/png": "[encoded data removed]",
            "text/plain": [
              "<Figure size 640x480 with 1 Axes>"
            ]
          },
          "metadata": {},
          "output_type": "display_data"
        }
      ],
      "source": [
        "import pandas as pd\n",
        "import matplotlib.pyplot as plt\n",
        "import seaborn as sns\n",
        "\n",
        "\n",
        "# Summary statistics for categorical variables\n",
        "print(tourism_df['Age'].value_counts())\n",
        "\n",
        "# Create a countplot to visualize the distribution of a categorical variable\n",
        "sns.countplot(x='Age', data=tourism_df)\n",
        "plt.show()\n",
        "\n",
        "# Create a cross-tabulation for two categorical variables\n",
        "cross_tab = pd.crosstab(tourism_df['Age'], tourism_df['Income'])\n",
        "print(cross_tab)\n",
        "\n",
        "# Create a stacked bar chart\n",
        "cross_tab.plot(kind='bar', stacked=True)\n",
        "plt.show()"
      ]
    },
    {
      "cell_type": "code",
      "execution_count": null,
      "id": "a2982ad5",
      "metadata": {},
      "outputs": [],
      "source": []
    }
  ],
  "metadata": {
    "colab": {
      "provenance": []
    },
    "kernelspec": {
      "display_name": "Python 3",
      "language": "python",
      "name": "python3"
    },
    "language_info": {
      "codemirror_mode": {
        "name": "ipython",
        "version": 3
      },
      "file_extension": ".py",
      "mimetype": "text/x-python",
      "name": "python",
      "nbconvert_exporter": "python",
      "pygments_lexer": "ipython3",
      "version": "3.11.5"
    }
  },
  "nbformat": 4,
  "nbformat_minor": 5
}
